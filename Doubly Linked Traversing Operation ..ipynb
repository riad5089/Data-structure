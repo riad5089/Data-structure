{
 "cells": [
  {
   "cell_type": "code",
   "execution_count": 1,
   "id": "49d009fc",
   "metadata": {},
   "outputs": [
    {
     "name": "stdout",
     "output_type": "stream",
     "text": [
      "empty linked list\n"
     ]
    }
   ],
   "source": [
    "class Node:\n",
    "    def __init__(self,data):\n",
    "        self.data=data\n",
    "        self.nref=None\n",
    "        self.pref=None\n",
    "    \n",
    "class doublyLL:\n",
    "    def __init__(self):\n",
    "        self.head=None\n",
    "    def printLL(self):\n",
    "        if self.head==None:\n",
    "            print(\"empty linked list\")\n",
    "        else:\n",
    "            n=self.head\n",
    "            while n is not None:\n",
    "                print(n.data,\"-->\",end=\" \")\n",
    "                n=n.nref\n",
    "        \n",
    "    def printLL_reverse(self):\n",
    "        if self.head==None:\n",
    "            print(\"empty linked list\")\n",
    "        else:\n",
    "            n=self.head\n",
    "            while n.nref is not None:\n",
    "                n=n.nref\n",
    "            while n is not None:\n",
    "                print(n.data,\"-->\",end=\" \")\n",
    "                n=n.pref\n",
    "dll=doublyLL()\n",
    "dll.printLL_reverse()\n"
   ]
  },
  {
   "cell_type": "code",
   "execution_count": 4,
   "id": "103711b7",
   "metadata": {},
   "outputs": [
    {
     "name": "stdout",
     "output_type": "stream",
     "text": [
      "Linked list is empty\n"
     ]
    }
   ],
   "source": [
    "class Node:\n",
    "    def __init__(self,data):\n",
    "        self.data=data\n",
    "        self.nref=None\n",
    "        self.pref=None\n",
    "    \n",
    "class Linked_list:\n",
    "    def __init__(self):\n",
    "        self.head=None\n",
    "    def printLL(self):\n",
    "        if self.head==None:\n",
    "            print(\"Linked list is empty\")\n",
    "        else:\n",
    "            n=self.head\n",
    "            while n is not None:\n",
    "                print(n.data,\"--->\",end=\"\")\n",
    "                n=n.nref\n",
    "                \n",
    "    def printLL_reverse(self):\n",
    "        if self.head==None:\n",
    "            print(\"Linked list is empty\")\n",
    "        else:\n",
    "            n=self.head\n",
    "            while n.nref is not None:\n",
    "                \n",
    "                n=n.nref\n",
    "            while n.pref is not None:\n",
    "                print(n.data,\"-->\",end=\"\")\n",
    "                n=n.pref\n",
    "                \n",
    "ll=Linked_list()\n",
    "ll.printLL_reverse()  "
   ]
  },
  {
   "cell_type": "code",
   "execution_count": null,
   "id": "eb3701fb",
   "metadata": {},
   "outputs": [],
   "source": []
  }
 ],
 "metadata": {
  "kernelspec": {
   "display_name": "Python 3 (ipykernel)",
   "language": "python",
   "name": "python3"
  },
  "language_info": {
   "codemirror_mode": {
    "name": "ipython",
    "version": 3
   },
   "file_extension": ".py",
   "mimetype": "text/x-python",
   "name": "python",
   "nbconvert_exporter": "python",
   "pygments_lexer": "ipython3",
   "version": "3.9.7"
  }
 },
 "nbformat": 4,
 "nbformat_minor": 5
}
