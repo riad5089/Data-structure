{
 "cells": [
  {
   "cell_type": "code",
   "execution_count": 1,
   "id": "997142d3",
   "metadata": {},
   "outputs": [
    {
     "name": "stdout",
     "output_type": "stream",
     "text": [
      "12 ---> 10 ---> "
     ]
    }
   ],
   "source": [
    "class Node:\n",
    "    def __init__(self,data):\n",
    "        self.data=data\n",
    "        self.ref=None\n",
    "class Linkedlist:\n",
    "    def __init__(self):\n",
    "        self.head=None\n",
    "    def printLL(self):\n",
    "        if self.head==None:\n",
    "            print(\"empty list\")\n",
    "        else:\n",
    "            n=self.head\n",
    "            while n is not None:\n",
    "                print(n.data,\"--->\",end=\" \")\n",
    "                n=n.ref\n",
    "    def add_begin(self,data):\n",
    "        new_node=Node(data)\n",
    "        new_node.ref=self.head\n",
    "        self.head=new_node\n",
    " \n",
    "            \n",
    "ll=Linkedlist()\n",
    "ll.add_begin(10)\n",
    "ll.add_begin(12)\n",
    "ll.printLL()"
   ]
  }
 ],
 "metadata": {
  "kernelspec": {
   "display_name": "Python 3 (ipykernel)",
   "language": "python",
   "name": "python3"
  },
  "language_info": {
   "codemirror_mode": {
    "name": "ipython",
    "version": 3
   },
   "file_extension": ".py",
   "mimetype": "text/x-python",
   "name": "python",
   "nbconvert_exporter": "python",
   "pygments_lexer": "ipython3",
   "version": "3.9.7"
  }
 },
 "nbformat": 4,
 "nbformat_minor": 5
}
