{
 "cells": [
  {
   "cell_type": "code",
   "execution_count": 4,
   "id": "299710d7",
   "metadata": {},
   "outputs": [
    {
     "name": "stdout",
     "output_type": "stream",
     "text": [
      "empty list\n"
     ]
    }
   ],
   "source": [
    "class Node:\n",
    "    def __init__(self,data):\n",
    "        self.data=data\n",
    "        self.ref=None\n",
    "class Linkedlist:\n",
    "    def __init__(self):\n",
    "        self.head=None\n",
    "    def printLL(self):\n",
    "        if self.head==None:\n",
    "            print(\"empty list\")\n",
    "        else:\n",
    "            n=self.head\n",
    "            while n.ref is not None:\n",
    "                print(n.data)\n",
    "                n=n.ref\n",
    "ll=Linkedlist()\n",
    "ll.printLL()"
   ]
  },
  {
   "cell_type": "code",
   "execution_count": null,
   "id": "0e22ed2c",
   "metadata": {},
   "outputs": [],
   "source": []
  }
 ],
 "metadata": {
  "kernelspec": {
   "display_name": "Python 3 (ipykernel)",
   "language": "python",
   "name": "python3"
  },
  "language_info": {
   "codemirror_mode": {
    "name": "ipython",
    "version": 3
   },
   "file_extension": ".py",
   "mimetype": "text/x-python",
   "name": "python",
   "nbconvert_exporter": "python",
   "pygments_lexer": "ipython3",
   "version": "3.9.7"
  }
 },
 "nbformat": 4,
 "nbformat_minor": 5
}
