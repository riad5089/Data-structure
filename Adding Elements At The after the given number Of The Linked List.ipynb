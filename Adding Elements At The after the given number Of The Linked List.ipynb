{
 "cells": [
  {
   "cell_type": "code",
   "execution_count": 1,
   "id": "98ae729c",
   "metadata": {},
   "outputs": [
    {
     "name": "stdout",
     "output_type": "stream",
     "text": [
      "n is not presented\n",
      "18 --> 12 --> 50 --> 10 --> 40 --> 100 --> 110 --> 30 --> "
     ]
    }
   ],
   "source": [
    "class Node:\n",
    "    def __init__(self,data):\n",
    "        self.data=data\n",
    "        self.ref=None\n",
    "class linkedlist:\n",
    "    def __init__(self):\n",
    "        self.head=None\n",
    "    def printLL(self):\n",
    "        if self.head==None:\n",
    "            print(\"empty linked list\")\n",
    "        else:\n",
    "            n=self.head\n",
    "            while n is not None:\n",
    "                print(n.data,\"-->\",end=\" \")\n",
    "                n=n.ref\n",
    "    def add_begin(self,data):\n",
    "        new_node=Node(data)\n",
    "        new_node.ref=self.head\n",
    "        self.head=new_node\n",
    "    def add_end(self,data):\n",
    "        new_node=Node(data)\n",
    "        if self.head==None:\n",
    "            self.head=new_node\n",
    "        else:\n",
    "            n=self.head\n",
    "            while n.ref is not None:\n",
    "                n=n.ref\n",
    "            n.ref=new_node\n",
    "            \n",
    "    def add_after(self,data,x):\n",
    "        n=self.head\n",
    "        while n is not None:\n",
    "            if x==n.data:\n",
    "                break\n",
    "            else:\n",
    "                n=n.ref\n",
    "        if n is None:\n",
    "            print(\"n is not presented\")\n",
    "        else:\n",
    "            new_node=Node(data)\n",
    "            new_node.ref=n.ref\n",
    "            n.ref=new_node\n",
    "\n",
    "ll=linkedlist()\n",
    "ll.add_begin(10)\n",
    "ll.add_begin(12)\n",
    "ll.add_end(100)\n",
    "ll.add_end(110)\n",
    "ll.add_begin(18)\n",
    "ll.add_after(50,12)\n",
    "ll.add_after(40,10)\n",
    "ll.add_after(30,110)\n",
    "ll.add_after(20,11)\n",
    "ll.printLL()"
   ]
  }
 ],
 "metadata": {
  "kernelspec": {
   "display_name": "Python 3 (ipykernel)",
   "language": "python",
   "name": "python3"
  },
  "language_info": {
   "codemirror_mode": {
    "name": "ipython",
    "version": 3
   },
   "file_extension": ".py",
   "mimetype": "text/x-python",
   "name": "python",
   "nbconvert_exporter": "python",
   "pygments_lexer": "ipython3",
   "version": "3.9.7"
  }
 },
 "nbformat": 4,
 "nbformat_minor": 5
}
