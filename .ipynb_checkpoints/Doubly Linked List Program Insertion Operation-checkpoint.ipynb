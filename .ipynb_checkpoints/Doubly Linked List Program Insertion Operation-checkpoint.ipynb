{
 "cells": [
  {
   "cell_type": "code",
   "execution_count": 1,
   "id": "37afd5f7",
   "metadata": {},
   "outputs": [
    {
     "name": "stdout",
     "output_type": "stream",
     "text": [
      "Linked list is not empty\n",
      "19 --> 10 --> \n",
      "10 --> 19 --> "
     ]
    }
   ],
   "source": [
    "class Node:\n",
    "    def __init__(self,data):\n",
    "        self.data=data\n",
    "        self.nref=None\n",
    "        self.pref=None\n",
    "    \n",
    "class doublyLL:\n",
    "    def __init__(self):\n",
    "        self.head=None\n",
    "    def printLL(self):\n",
    "        if self.head==None:\n",
    "            print(\"empty linked list\")\n",
    "        else:\n",
    "            n=self.head\n",
    "            while n is not None:\n",
    "                print(n.data,\"-->\",end=\" \")\n",
    "                n=n.nref\n",
    "        \n",
    "    def printLL_reverse(self):\n",
    "        print()\n",
    "        \n",
    "        if self.head==None:\n",
    "            print(\"empty linked list\")\n",
    "        else:\n",
    "            n=self.head\n",
    "            while n.nref is not None:\n",
    "                n=n.nref\n",
    "            while n is not None:\n",
    "                print(n.data,\"-->\",end=\" \")\n",
    "                n=n.pref\n",
    "                \n",
    "    def insert_empty(self,data):\n",
    "        if self.head is None:\n",
    "            new_node=Node(data)\n",
    "            self.head=new_node\n",
    "        else:\n",
    "            print(\"Linked list is not empty\")\n",
    "            \n",
    "    \n",
    "    def add_begin(self,data):\n",
    "        new_node=Node(data)\n",
    "        if self.head==None:\n",
    "            self.head=new_node\n",
    "        \n",
    "        else:\n",
    "            new_node.nref=self.head\n",
    "            self.head.pref=new_node\n",
    "            self.head=new_node\n",
    "            \n",
    "    def add_end(self,data):\n",
    "        new_node=Node(data)\n",
    "        if self.head==None:\n",
    "            self.head=new_node\n",
    "        \n",
    "        else:\n",
    "            n=self.head\n",
    "            while n.nref is not None:\n",
    "                n=n.nref\n",
    "            \n",
    "            n.nref=new_node\n",
    "            new_node.pref=n\n",
    "            \n",
    "            \n",
    "dll=doublyLL()\n",
    "dll.insert_empty(10)\n",
    "dll.insert_empty(40)\n",
    "dll.add_begin(19)\n",
    "dll.printLL()\n",
    "dll.printLL_reverse()\n"
   ]
  },
  {
   "cell_type": "code",
   "execution_count": null,
   "id": "7b0c360c",
   "metadata": {},
   "outputs": [],
   "source": [
    "cla"
   ]
  }
 ],
 "metadata": {
  "kernelspec": {
   "display_name": "Python 3 (ipykernel)",
   "language": "python",
   "name": "python3"
  },
  "language_info": {
   "codemirror_mode": {
    "name": "ipython",
    "version": 3
   },
   "file_extension": ".py",
   "mimetype": "text/x-python",
   "name": "python",
   "nbconvert_exporter": "python",
   "pygments_lexer": "ipython3",
   "version": "3.9.7"
  }
 },
 "nbformat": 4,
 "nbformat_minor": 5
}
